{
 "cells": [
  {
   "cell_type": "markdown",
   "metadata": {},
   "source": [
    "# Client\n",
    "All methods from `all.ipynb` that are available on IEXcloud are available as methods on the authenticated client"
   ]
  },
  {
   "cell_type": "code",
   "execution_count": 8,
   "metadata": {},
   "outputs": [
    {
     "name": "stdout",
     "output_type": "stream",
     "text": [
      "env: IEX_TOKEN=pk_02f114f931ba4b05978c6a05b390146e\n"
     ]
    }
   ],
   "source": [
    "import pyEX\n",
    "%env IEX_TOKEN=pk_02f114f931ba4b05978c6a05b390146e\n",
    "\n",
    "c = pyEX.Client()"
   ]
  },
  {
   "cell_type": "code",
   "execution_count": 9,
   "metadata": {},
   "outputs": [],
   "source": [
    "symbol = 'AAPL'"
   ]
  },
  {
   "cell_type": "code",
   "execution_count": 11,
   "metadata": {},
   "outputs": [
    {
     "data": {
      "text/plain": [
       "{'symbol': 'AAPL',\n",
       " 'companyName': 'Apple, Inc.',\n",
       " 'calculationPrice': 'tops',\n",
       " 'open': 194.73,\n",
       " 'openTime': 1560432600280,\n",
       " 'close': 194.19,\n",
       " 'closeTime': 1560369600179,\n",
       " 'high': 196.79,\n",
       " 'low': 194.44,\n",
       " 'latestPrice': 194.84,\n",
       " 'latestSource': 'IEX real time price',\n",
       " 'latestTime': '2:19:38 PM',\n",
       " 'latestUpdate': 1560449978440,\n",
       " 'latestVolume': 12047658,\n",
       " 'iexRealtimePrice': 194.84,\n",
       " 'iexRealtimeSize': 33,\n",
       " 'iexLastUpdated': 1560449978440,\n",
       " 'delayedPrice': 195.158,\n",
       " 'delayedPriceTime': 1560449077695,\n",
       " 'extendedPrice': 194.72,\n",
       " 'extendedChange': -0.12,\n",
       " 'extendedChangePercent': -0.00062,\n",
       " 'extendedPriceTime': 1560432600115,\n",
       " 'previousClose': 194.19,\n",
       " 'change': 0.65,\n",
       " 'changePercent': 0.00335,\n",
       " 'iexMarketPercent': 0.03136684324870444,\n",
       " 'iexVolume': 377897,\n",
       " 'avgTotalVolume': 32173722,\n",
       " 'iexBidPrice': 194.8,\n",
       " 'iexBidSize': 100,\n",
       " 'iexAskPrice': 196.15,\n",
       " 'iexAskSize': 100,\n",
       " 'marketCap': 896474427200,\n",
       " 'peRatio': 16.25,\n",
       " 'week52High': 233.47,\n",
       " 'week52Low': 142,\n",
       " 'ytdChange': 0.23302299999999998}"
      ]
     },
     "execution_count": 11,
     "metadata": {},
     "output_type": "execute_result"
    }
   ],
   "source": [
    "c.quote(symbol)"
   ]
  },
  {
   "cell_type": "code",
   "execution_count": null,
   "metadata": {},
   "outputs": [],
   "source": []
  }
 ],
 "metadata": {
  "kernelspec": {
   "display_name": "Python 3",
   "language": "python",
   "name": "python3"
  },
  "language_info": {
   "codemirror_mode": {
    "name": "ipython",
    "version": 3
   },
   "file_extension": ".py",
   "mimetype": "text/x-python",
   "name": "python",
   "nbconvert_exporter": "python",
   "pygments_lexer": "ipython3",
   "version": "3.7.2"
  }
 },
 "nbformat": 4,
 "nbformat_minor": 2
}

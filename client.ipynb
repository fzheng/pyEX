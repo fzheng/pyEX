{
 "cells": [
  {
   "cell_type": "markdown",
   "metadata": {},
   "source": [
    "# Client\n",
    "All methods from `all.ipynb` that are available on IEXcloud are available as methods on the authenticated client"
   ]
  },
  {
   "cell_type": "code",
   "execution_count": 7,
   "metadata": {},
   "outputs": [
    {
     "name": "stdout",
     "output_type": "stream",
     "text": [
      "env: IEX_TOKEN=pk_02f114f931ba4b05978c6a05b390146e\n"
     ]
    }
   ],
   "source": [
    "import pyEX\n",
    "%env IEX_TOKEN=pk_02f114f931ba4b05978c6a05b390146e\n",
    "\n",
    "c = pyEX.Client()"
   ]
  },
  {
   "cell_type": "code",
   "execution_count": 8,
   "metadata": {},
   "outputs": [
    {
     "data": {
      "text/html": [
       "<div>\n",
       "<style scoped>\n",
       "    .dataframe tbody tr th:only-of-type {\n",
       "        vertical-align: middle;\n",
       "    }\n",
       "\n",
       "    .dataframe tbody tr th {\n",
       "        vertical-align: top;\n",
       "    }\n",
       "\n",
       "    .dataframe thead th {\n",
       "        text-align: right;\n",
       "    }\n",
       "</style>\n",
       "<table border=\"1\" class=\"dataframe\">\n",
       "  <thead>\n",
       "    <tr style=\"text-align: right;\">\n",
       "      <th></th>\n",
       "      <th>currency</th>\n",
       "      <th>date</th>\n",
       "      <th>exchange</th>\n",
       "      <th>iexId</th>\n",
       "      <th>isEnabled</th>\n",
       "      <th>name</th>\n",
       "      <th>region</th>\n",
       "      <th>type</th>\n",
       "    </tr>\n",
       "    <tr>\n",
       "      <th>symbol</th>\n",
       "      <th></th>\n",
       "      <th></th>\n",
       "      <th></th>\n",
       "      <th></th>\n",
       "      <th></th>\n",
       "      <th></th>\n",
       "      <th></th>\n",
       "      <th></th>\n",
       "    </tr>\n",
       "  </thead>\n",
       "  <tbody>\n",
       "    <tr>\n",
       "      <th>A</th>\n",
       "      <td>USD</td>\n",
       "      <td>2019-06-13</td>\n",
       "      <td>NYS</td>\n",
       "      <td>IEX_46574843354B2D52</td>\n",
       "      <td>True</td>\n",
       "      <td>Agilent Technologies Inc.</td>\n",
       "      <td>US</td>\n",
       "      <td>cs</td>\n",
       "    </tr>\n",
       "    <tr>\n",
       "      <th>AA</th>\n",
       "      <td>USD</td>\n",
       "      <td>2019-06-13</td>\n",
       "      <td>NYS</td>\n",
       "      <td>IEX_4238333734532D52</td>\n",
       "      <td>True</td>\n",
       "      <td>Alcoa Corp.</td>\n",
       "      <td>US</td>\n",
       "      <td>cs</td>\n",
       "    </tr>\n",
       "    <tr>\n",
       "      <th>AAAU</th>\n",
       "      <td>USD</td>\n",
       "      <td>2019-06-13</td>\n",
       "      <td>PSE</td>\n",
       "      <td>IEX_474B433136332D52</td>\n",
       "      <td>True</td>\n",
       "      <td>Perth Mint Physical Gold ETF</td>\n",
       "      <td>US</td>\n",
       "      <td>et</td>\n",
       "    </tr>\n",
       "    <tr>\n",
       "      <th>AABA</th>\n",
       "      <td>USD</td>\n",
       "      <td>2019-06-13</td>\n",
       "      <td>NAS</td>\n",
       "      <td>IEX_4E5434354A302D52</td>\n",
       "      <td>True</td>\n",
       "      <td>Altaba Inc.</td>\n",
       "      <td>US</td>\n",
       "      <td>cef</td>\n",
       "    </tr>\n",
       "    <tr>\n",
       "      <th>AAC</th>\n",
       "      <td>USD</td>\n",
       "      <td>2019-06-13</td>\n",
       "      <td>NYS</td>\n",
       "      <td>IEX_4843364642592D52</td>\n",
       "      <td>True</td>\n",
       "      <td>AAC Holdings Inc.</td>\n",
       "      <td>US</td>\n",
       "      <td>cs</td>\n",
       "    </tr>\n",
       "  </tbody>\n",
       "</table>\n",
       "</div>"
      ],
      "text/plain": [
       "       currency       date exchange                 iexId  isEnabled  \\\n",
       "symbol                                                                 \n",
       "A           USD 2019-06-13      NYS  IEX_46574843354B2D52       True   \n",
       "AA          USD 2019-06-13      NYS  IEX_4238333734532D52       True   \n",
       "AAAU        USD 2019-06-13      PSE  IEX_474B433136332D52       True   \n",
       "AABA        USD 2019-06-13      NAS  IEX_4E5434354A302D52       True   \n",
       "AAC         USD 2019-06-13      NYS  IEX_4843364642592D52       True   \n",
       "\n",
       "                                name region type  \n",
       "symbol                                            \n",
       "A          Agilent Technologies Inc.     US   cs  \n",
       "AA                       Alcoa Corp.     US   cs  \n",
       "AAAU    Perth Mint Physical Gold ETF     US   et  \n",
       "AABA                     Altaba Inc.     US  cef  \n",
       "AAC                AAC Holdings Inc.     US   cs  "
      ]
     },
     "execution_count": 8,
     "metadata": {},
     "output_type": "execute_result"
    }
   ],
   "source": [
    "c.symbolsDF().head()"
   ]
  },
  {
   "cell_type": "code",
   "execution_count": 9,
   "metadata": {},
   "outputs": [
    {
     "data": {
      "text/plain": [
       "['A', 'AA', 'AAAU', 'AABA', 'AAC', 'AADR', 'AAL', 'AAMC', 'AAME', 'AAN']"
      ]
     },
     "execution_count": 9,
     "metadata": {},
     "output_type": "execute_result"
    }
   ],
   "source": [
    "pyEX.symbolsList()[:10]"
   ]
  },
  {
   "cell_type": "code",
   "execution_count": null,
   "metadata": {},
   "outputs": [],
   "source": []
  }
 ],
 "metadata": {
  "kernelspec": {
   "display_name": "Python 3",
   "language": "python",
   "name": "python3"
  },
  "language_info": {
   "codemirror_mode": {
    "name": "ipython",
    "version": 3
   },
   "file_extension": ".py",
   "mimetype": "text/x-python",
   "name": "python",
   "nbconvert_exporter": "python",
   "pygments_lexer": "ipython3",
   "version": "3.7.2"
  }
 },
 "nbformat": 4,
 "nbformat_minor": 2
}
